{
 "cells": [
  {
   "cell_type": "markdown",
   "metadata": {},
   "source": [
    "# Рекомендация тарифов"
   ]
  },
  {
   "cell_type": "markdown",
   "metadata": {},
   "source": [
    "В вашем распоряжении данные о поведении клиентов, которые уже перешли на эти тарифы (из проекта курса «Статистический анализ данных»). Нужно построить модель для задачи классификации, которая выберет подходящий тариф. Предобработка данных не понадобится — вы её уже сделали.\n",
    "\n",
    "Постройте модель с максимально большим значением *accuracy*. Чтобы сдать проект успешно, нужно довести долю правильных ответов по крайней мере до 0.75. Проверьте *accuracy* на тестовой выборке самостоятельно."
   ]
  },
  {
   "cell_type": "markdown",
   "metadata": {},
   "source": [
    "## Открытие и изучение файла"
   ]
  },
  {
   "cell_type": "code",
   "execution_count": 1,
   "metadata": {},
   "outputs": [],
   "source": [
    "import pandas as pd\n",
    "from sklearn.metrics import accuracy_score, precision_score, recall_score, f1_score, confusion_matrix\n",
    "from sklearn.tree import DecisionTreeClassifier, plot_tree\n",
    "from sklearn.ensemble import RandomForestClassifier\n",
    "from sklearn.linear_model import LogisticRegression\n",
    "from sklearn.model_selection import GridSearchCV\n",
    "from sklearn.dummy import DummyClassifier\n",
    "from sklearn.model_selection import train_test_split\n",
    "import matplotlib.pyplot as plt\n",
    "import seaborn as sns\n",
    "import warnings\n",
    "warnings.filterwarnings('ignore')"
   ]
  },
  {
   "cell_type": "code",
   "execution_count": 2,
   "metadata": {},
   "outputs": [],
   "source": [
    "try:\n",
    "    df = pd.read_csv('/datasets/users_behavior.csv')\n",
    "except:\n",
    "    df = pd.read_csv('...')"
   ]
  },
  {
   "cell_type": "code",
   "execution_count": 3,
   "metadata": {},
   "outputs": [
    {
     "data": {
      "text/html": [
       "<div>\n",
       "<style scoped>\n",
       "    .dataframe tbody tr th:only-of-type {\n",
       "        vertical-align: middle;\n",
       "    }\n",
       "\n",
       "    .dataframe tbody tr th {\n",
       "        vertical-align: top;\n",
       "    }\n",
       "\n",
       "    .dataframe thead th {\n",
       "        text-align: right;\n",
       "    }\n",
       "</style>\n",
       "<table border=\"1\" class=\"dataframe\">\n",
       "  <thead>\n",
       "    <tr style=\"text-align: right;\">\n",
       "      <th></th>\n",
       "      <th>calls</th>\n",
       "      <th>minutes</th>\n",
       "      <th>messages</th>\n",
       "      <th>mb_used</th>\n",
       "      <th>is_ultra</th>\n",
       "    </tr>\n",
       "  </thead>\n",
       "  <tbody>\n",
       "    <tr>\n",
       "      <th>0</th>\n",
       "      <td>40.0</td>\n",
       "      <td>311.90</td>\n",
       "      <td>83.0</td>\n",
       "      <td>19915.42</td>\n",
       "      <td>0</td>\n",
       "    </tr>\n",
       "    <tr>\n",
       "      <th>1</th>\n",
       "      <td>85.0</td>\n",
       "      <td>516.75</td>\n",
       "      <td>56.0</td>\n",
       "      <td>22696.96</td>\n",
       "      <td>0</td>\n",
       "    </tr>\n",
       "    <tr>\n",
       "      <th>2</th>\n",
       "      <td>77.0</td>\n",
       "      <td>467.66</td>\n",
       "      <td>86.0</td>\n",
       "      <td>21060.45</td>\n",
       "      <td>0</td>\n",
       "    </tr>\n",
       "    <tr>\n",
       "      <th>3</th>\n",
       "      <td>106.0</td>\n",
       "      <td>745.53</td>\n",
       "      <td>81.0</td>\n",
       "      <td>8437.39</td>\n",
       "      <td>1</td>\n",
       "    </tr>\n",
       "    <tr>\n",
       "      <th>4</th>\n",
       "      <td>66.0</td>\n",
       "      <td>418.74</td>\n",
       "      <td>1.0</td>\n",
       "      <td>14502.75</td>\n",
       "      <td>0</td>\n",
       "    </tr>\n",
       "  </tbody>\n",
       "</table>\n",
       "</div>"
      ],
      "text/plain": [
       "   calls  minutes  messages   mb_used  is_ultra\n",
       "0   40.0   311.90      83.0  19915.42         0\n",
       "1   85.0   516.75      56.0  22696.96         0\n",
       "2   77.0   467.66      86.0  21060.45         0\n",
       "3  106.0   745.53      81.0   8437.39         1\n",
       "4   66.0   418.74       1.0  14502.75         0"
      ]
     },
     "execution_count": 3,
     "metadata": {},
     "output_type": "execute_result"
    }
   ],
   "source": [
    "df.head()"
   ]
  },
  {
   "cell_type": "code",
   "execution_count": 4,
   "metadata": {},
   "outputs": [
    {
     "name": "stdout",
     "output_type": "stream",
     "text": [
      "<class 'pandas.core.frame.DataFrame'>\n",
      "RangeIndex: 3214 entries, 0 to 3213\n",
      "Data columns (total 5 columns):\n",
      " #   Column    Non-Null Count  Dtype  \n",
      "---  ------    --------------  -----  \n",
      " 0   calls     3214 non-null   float64\n",
      " 1   minutes   3214 non-null   float64\n",
      " 2   messages  3214 non-null   float64\n",
      " 3   mb_used   3214 non-null   float64\n",
      " 4   is_ultra  3214 non-null   int64  \n",
      "dtypes: float64(4), int64(1)\n",
      "memory usage: 125.7 KB\n"
     ]
    }
   ],
   "source": [
    "df.info()"
   ]
  },
  {
   "cell_type": "code",
   "execution_count": 5,
   "metadata": {
    "scrolled": true
   },
   "outputs": [
    {
     "data": {
      "text/html": [
       "<div>\n",
       "<style scoped>\n",
       "    .dataframe tbody tr th:only-of-type {\n",
       "        vertical-align: middle;\n",
       "    }\n",
       "\n",
       "    .dataframe tbody tr th {\n",
       "        vertical-align: top;\n",
       "    }\n",
       "\n",
       "    .dataframe thead th {\n",
       "        text-align: right;\n",
       "    }\n",
       "</style>\n",
       "<table border=\"1\" class=\"dataframe\">\n",
       "  <thead>\n",
       "    <tr style=\"text-align: right;\">\n",
       "      <th></th>\n",
       "      <th>calls</th>\n",
       "      <th>minutes</th>\n",
       "      <th>messages</th>\n",
       "      <th>mb_used</th>\n",
       "      <th>is_ultra</th>\n",
       "    </tr>\n",
       "  </thead>\n",
       "  <tbody>\n",
       "    <tr>\n",
       "      <th>count</th>\n",
       "      <td>3214.000000</td>\n",
       "      <td>3214.000000</td>\n",
       "      <td>3214.000000</td>\n",
       "      <td>3214.000000</td>\n",
       "      <td>3214.000000</td>\n",
       "    </tr>\n",
       "    <tr>\n",
       "      <th>mean</th>\n",
       "      <td>63.038892</td>\n",
       "      <td>438.208787</td>\n",
       "      <td>38.281269</td>\n",
       "      <td>17207.673836</td>\n",
       "      <td>0.306472</td>\n",
       "    </tr>\n",
       "    <tr>\n",
       "      <th>std</th>\n",
       "      <td>33.236368</td>\n",
       "      <td>234.569872</td>\n",
       "      <td>36.148326</td>\n",
       "      <td>7570.968246</td>\n",
       "      <td>0.461100</td>\n",
       "    </tr>\n",
       "    <tr>\n",
       "      <th>min</th>\n",
       "      <td>0.000000</td>\n",
       "      <td>0.000000</td>\n",
       "      <td>0.000000</td>\n",
       "      <td>0.000000</td>\n",
       "      <td>0.000000</td>\n",
       "    </tr>\n",
       "    <tr>\n",
       "      <th>25%</th>\n",
       "      <td>40.000000</td>\n",
       "      <td>274.575000</td>\n",
       "      <td>9.000000</td>\n",
       "      <td>12491.902500</td>\n",
       "      <td>0.000000</td>\n",
       "    </tr>\n",
       "    <tr>\n",
       "      <th>50%</th>\n",
       "      <td>62.000000</td>\n",
       "      <td>430.600000</td>\n",
       "      <td>30.000000</td>\n",
       "      <td>16943.235000</td>\n",
       "      <td>0.000000</td>\n",
       "    </tr>\n",
       "    <tr>\n",
       "      <th>75%</th>\n",
       "      <td>82.000000</td>\n",
       "      <td>571.927500</td>\n",
       "      <td>57.000000</td>\n",
       "      <td>21424.700000</td>\n",
       "      <td>1.000000</td>\n",
       "    </tr>\n",
       "    <tr>\n",
       "      <th>max</th>\n",
       "      <td>244.000000</td>\n",
       "      <td>1632.060000</td>\n",
       "      <td>224.000000</td>\n",
       "      <td>49745.730000</td>\n",
       "      <td>1.000000</td>\n",
       "    </tr>\n",
       "  </tbody>\n",
       "</table>\n",
       "</div>"
      ],
      "text/plain": [
       "             calls      minutes     messages       mb_used     is_ultra\n",
       "count  3214.000000  3214.000000  3214.000000   3214.000000  3214.000000\n",
       "mean     63.038892   438.208787    38.281269  17207.673836     0.306472\n",
       "std      33.236368   234.569872    36.148326   7570.968246     0.461100\n",
       "min       0.000000     0.000000     0.000000      0.000000     0.000000\n",
       "25%      40.000000   274.575000     9.000000  12491.902500     0.000000\n",
       "50%      62.000000   430.600000    30.000000  16943.235000     0.000000\n",
       "75%      82.000000   571.927500    57.000000  21424.700000     1.000000\n",
       "max     244.000000  1632.060000   224.000000  49745.730000     1.000000"
      ]
     },
     "execution_count": 5,
     "metadata": {},
     "output_type": "execute_result"
    }
   ],
   "source": [
    "df.describe()"
   ]
  },
  {
   "cell_type": "code",
   "execution_count": 6,
   "metadata": {},
   "outputs": [
    {
     "data": {
      "text/html": [
       "<div>\n",
       "<style scoped>\n",
       "    .dataframe tbody tr th:only-of-type {\n",
       "        vertical-align: middle;\n",
       "    }\n",
       "\n",
       "    .dataframe tbody tr th {\n",
       "        vertical-align: top;\n",
       "    }\n",
       "\n",
       "    .dataframe thead th {\n",
       "        text-align: right;\n",
       "    }\n",
       "</style>\n",
       "<table border=\"1\" class=\"dataframe\">\n",
       "  <thead>\n",
       "    <tr style=\"text-align: right;\">\n",
       "      <th></th>\n",
       "      <th>calls</th>\n",
       "      <th>minutes</th>\n",
       "      <th>messages</th>\n",
       "      <th>mb_used</th>\n",
       "    </tr>\n",
       "  </thead>\n",
       "  <tbody>\n",
       "    <tr>\n",
       "      <th>0</th>\n",
       "      <td>40.0</td>\n",
       "      <td>311.90</td>\n",
       "      <td>83.0</td>\n",
       "      <td>19915.42</td>\n",
       "    </tr>\n",
       "    <tr>\n",
       "      <th>1</th>\n",
       "      <td>85.0</td>\n",
       "      <td>516.75</td>\n",
       "      <td>56.0</td>\n",
       "      <td>22696.96</td>\n",
       "    </tr>\n",
       "    <tr>\n",
       "      <th>2</th>\n",
       "      <td>77.0</td>\n",
       "      <td>467.66</td>\n",
       "      <td>86.0</td>\n",
       "      <td>21060.45</td>\n",
       "    </tr>\n",
       "    <tr>\n",
       "      <th>3</th>\n",
       "      <td>106.0</td>\n",
       "      <td>745.53</td>\n",
       "      <td>81.0</td>\n",
       "      <td>8437.39</td>\n",
       "    </tr>\n",
       "    <tr>\n",
       "      <th>4</th>\n",
       "      <td>66.0</td>\n",
       "      <td>418.74</td>\n",
       "      <td>1.0</td>\n",
       "      <td>14502.75</td>\n",
       "    </tr>\n",
       "    <tr>\n",
       "      <th>...</th>\n",
       "      <td>...</td>\n",
       "      <td>...</td>\n",
       "      <td>...</td>\n",
       "      <td>...</td>\n",
       "    </tr>\n",
       "    <tr>\n",
       "      <th>3209</th>\n",
       "      <td>122.0</td>\n",
       "      <td>910.98</td>\n",
       "      <td>20.0</td>\n",
       "      <td>35124.90</td>\n",
       "    </tr>\n",
       "    <tr>\n",
       "      <th>3210</th>\n",
       "      <td>25.0</td>\n",
       "      <td>190.36</td>\n",
       "      <td>0.0</td>\n",
       "      <td>3275.61</td>\n",
       "    </tr>\n",
       "    <tr>\n",
       "      <th>3211</th>\n",
       "      <td>97.0</td>\n",
       "      <td>634.44</td>\n",
       "      <td>70.0</td>\n",
       "      <td>13974.06</td>\n",
       "    </tr>\n",
       "    <tr>\n",
       "      <th>3212</th>\n",
       "      <td>64.0</td>\n",
       "      <td>462.32</td>\n",
       "      <td>90.0</td>\n",
       "      <td>31239.78</td>\n",
       "    </tr>\n",
       "    <tr>\n",
       "      <th>3213</th>\n",
       "      <td>80.0</td>\n",
       "      <td>566.09</td>\n",
       "      <td>6.0</td>\n",
       "      <td>29480.52</td>\n",
       "    </tr>\n",
       "  </tbody>\n",
       "</table>\n",
       "<p>3214 rows × 4 columns</p>\n",
       "</div>"
      ],
      "text/plain": [
       "      calls  minutes  messages   mb_used\n",
       "0      40.0   311.90      83.0  19915.42\n",
       "1      85.0   516.75      56.0  22696.96\n",
       "2      77.0   467.66      86.0  21060.45\n",
       "3     106.0   745.53      81.0   8437.39\n",
       "4      66.0   418.74       1.0  14502.75\n",
       "...     ...      ...       ...       ...\n",
       "3209  122.0   910.98      20.0  35124.90\n",
       "3210   25.0   190.36       0.0   3275.61\n",
       "3211   97.0   634.44      70.0  13974.06\n",
       "3212   64.0   462.32      90.0  31239.78\n",
       "3213   80.0   566.09       6.0  29480.52\n",
       "\n",
       "[3214 rows x 4 columns]"
      ]
     },
     "execution_count": 6,
     "metadata": {},
     "output_type": "execute_result"
    }
   ],
   "source": [
    "X = df.drop(columns=['is_ultra'])\n",
    "X"
   ]
  },
  {
   "cell_type": "code",
   "execution_count": 7,
   "metadata": {},
   "outputs": [
    {
     "data": {
      "text/plain": [
       "0       0\n",
       "1       0\n",
       "2       0\n",
       "3       1\n",
       "4       0\n",
       "       ..\n",
       "3209    1\n",
       "3210    0\n",
       "3211    0\n",
       "3212    0\n",
       "3213    1\n",
       "Name: is_ultra, Length: 3214, dtype: int64"
      ]
     },
     "execution_count": 7,
     "metadata": {},
     "output_type": "execute_result"
    }
   ],
   "source": [
    "y = df['is_ultra']\n",
    "y"
   ]
  },
  {
   "cell_type": "code",
   "execution_count": 8,
   "metadata": {},
   "outputs": [
    {
     "data": {
      "text/plain": [
       "0    0.693528\n",
       "1    0.306472\n",
       "Name: is_ultra, dtype: float64"
      ]
     },
     "execution_count": 8,
     "metadata": {},
     "output_type": "execute_result"
    }
   ],
   "source": [
    "y.value_counts(normalize=True)"
   ]
  },
  {
   "cell_type": "markdown",
   "metadata": {},
   "source": [
    "Данные преподготовлены, пустых значений нет, все колонки числовые. Соотношение пользователей тарифа \"Ультра\" к пользователям тарифа \"Смарт\" примерно 30:70. Выделен датасет с векторами предикторами (X) и вектором таргета (y)."
   ]
  },
  {
   "cell_type": "markdown",
   "metadata": {},
   "source": [
    "## Разделение данных на выборки"
   ]
  },
  {
   "cell_type": "code",
   "execution_count": 9,
   "metadata": {},
   "outputs": [],
   "source": [
    "X_train, X_valid_test, y_train, y_valid_test = train_test_split(X, \n",
    "                                                                y, \n",
    "                                                                test_size=0.4, \n",
    "                                                                stratify=y, \n",
    "                                                                random_state=12345)\n",
    "X_valid, X_test, y_valid, y_test = train_test_split(X_valid_test, \n",
    "                                                    y_valid_test, \n",
    "                                                    test_size=0.5, \n",
    "                                                    stratify=y_valid_test, \n",
    "                                                    random_state=12345)"
   ]
  },
  {
   "cell_type": "code",
   "execution_count": 10,
   "metadata": {},
   "outputs": [
    {
     "data": {
      "text/plain": [
       "((1928, 4), (643, 4), (643, 4))"
      ]
     },
     "execution_count": 10,
     "metadata": {},
     "output_type": "execute_result"
    }
   ],
   "source": [
    "X_train.shape, X_valid.shape, X_test.shape"
   ]
  },
  {
   "cell_type": "code",
   "execution_count": 11,
   "metadata": {},
   "outputs": [
    {
     "data": {
      "text/plain": [
       "0    0.693465\n",
       "1    0.306535\n",
       "Name: is_ultra, dtype: float64"
      ]
     },
     "execution_count": 11,
     "metadata": {},
     "output_type": "execute_result"
    }
   ],
   "source": [
    "y_train.value_counts(normalize=True)"
   ]
  },
  {
   "cell_type": "code",
   "execution_count": 12,
   "metadata": {},
   "outputs": [
    {
     "data": {
      "text/plain": [
       "0    0.693624\n",
       "1    0.306376\n",
       "Name: is_ultra, dtype: float64"
      ]
     },
     "execution_count": 12,
     "metadata": {},
     "output_type": "execute_result"
    }
   ],
   "source": [
    "y_valid.value_counts(normalize=True)"
   ]
  },
  {
   "cell_type": "code",
   "execution_count": 13,
   "metadata": {},
   "outputs": [
    {
     "data": {
      "text/plain": [
       "0    0.693624\n",
       "1    0.306376\n",
       "Name: is_ultra, dtype: float64"
      ]
     },
     "execution_count": 13,
     "metadata": {},
     "output_type": "execute_result"
    }
   ],
   "source": [
    "y_test.value_counts(normalize=True)"
   ]
  },
  {
   "cell_type": "markdown",
   "metadata": {},
   "source": [
    "X, y случаным образом со стратификацией по таргету разделены на три части (обучающая, валидационная, тестовая) в соотношении 60:20:20"
   ]
  },
  {
   "cell_type": "markdown",
   "metadata": {},
   "source": [
    "## Исследование моделей"
   ]
  },
  {
   "cell_type": "markdown",
   "metadata": {},
   "source": [
    "### DecisionTreeClassifier"
   ]
  },
  {
   "cell_type": "code",
   "execution_count": 14,
   "metadata": {},
   "outputs": [
    {
     "name": "stdout",
     "output_type": "stream",
     "text": [
      "Best max depth: 8, best accuracy on valid: 0.80248833592535\n"
     ]
    }
   ],
   "source": [
    "max_depths = range(1, 31)\n",
    "train_scores = []\n",
    "valid_scores = []\n",
    "best_max_depth = 0\n",
    "best_score = 0\n",
    "best_dt = None\n",
    "for max_depth in max_depths:\n",
    "    dt = DecisionTreeClassifier(max_depth=max_depth, random_state=12345)\n",
    "    dt.fit(X_train, y_train)\n",
    "    train_scores.append(accuracy_score(y_train, dt.predict(X_train)))\n",
    "    valid_scores.append(accuracy_score(y_valid, dt.predict(X_valid)))\n",
    "    score = accuracy_score(y_valid, dt.predict(X_valid))\n",
    "    if score > best_score:\n",
    "        best_score = score\n",
    "        best_max_depth = max_depth\n",
    "        best_dt = dt\n",
    "print(f'Best max depth: {best_max_depth}, best accuracy on valid: {best_score}')"
   ]
  },
  {
   "cell_type": "code",
   "execution_count": 15,
   "metadata": {
    "scrolled": false
   },
   "outputs": [
    {
     "data": {
      "image/png": "[encoded data removed]",
      "text/plain": [
       "<Figure size 1200x900 with 1 Axes>"
      ]
     },
     "metadata": {},
     "output_type": "display_data"
    }
   ],
   "source": [
    "plt.figure(figsize=[12, 9])\n",
    "plt.plot(max_depths, train_scores, 'o-', label='Train')\n",
    "plt.legend(loc='upper left')\n",
    "plt.plot(max_depths, valid_scores, 'o-', label='Valid')\n",
    "plt.legend(loc='upper left')\n",
    "plt.title('Accuracy on train/valid by max_depth')\n",
    "plt.xlabel('Max_depth')\n",
    "plt.ylabel('Accuracy')\n",
    "plt.xticks(max_depths);"
   ]
  },
  {
   "cell_type": "code",
   "execution_count": 16,
   "metadata": {},
   "outputs": [
    {
     "data": {
      "text/plain": [
       "0.5076142131979695"
      ]
     },
     "execution_count": 16,
     "metadata": {},
     "output_type": "execute_result"
    }
   ],
   "source": [
    "accuracy_score(y_valid[y_valid == 1], best_dt.predict(X_valid[y_valid == 1]))"
   ]
  },
  {
   "cell_type": "code",
   "execution_count": 17,
   "metadata": {},
   "outputs": [
    {
     "data": {
      "text/plain": [
       "0.9327354260089686"
      ]
     },
     "execution_count": 17,
     "metadata": {},
     "output_type": "execute_result"
    }
   ],
   "source": [
    "accuracy_score(y_valid[y_valid == 0], best_dt.predict(X_valid[y_valid == 0]))"
   ]
  },
  {
   "cell_type": "code",
   "execution_count": 18,
   "metadata": {
    "scrolled": false
   },
   "outputs": [
    {
     "data": {
      "image/png": "[encoded data removed]",
      "text/plain": [
       "<Figure size 2000x1500 with 1 Axes>"
      ]
     },
     "metadata": {},
     "output_type": "display_data"
    }
   ],
   "source": [
    "plt.figure(figsize=[20, 15])\n",
    "plot_tree(best_dt, max_depth=3, class_names=['Smart', 'Ultra'], filled=True, fontsize=10, feature_names=X.columns);"
   ]
  },
  {
   "cell_type": "markdown",
   "metadata": {},
   "source": [
    "Для DecisionTreeClassifier лучшее значение accuracy (0.8025) на валидационной выборке было получено при max_depth = 8. Причем для тарифа \"Ультра\" accuracy равно всего лишь 0.5076, а для тарифа \"Смарт\" 0.9327. Возможно, так получилось, потому что в наборе данных гораздо меньше данных о пользователях с тарифом \"Ультра\".\n",
    "\n",
    "По графику изменения accuracy по max_depth видно, что для обучающей выборки accuracy равномерно растет с ростом глубины дерева и к глубине равной 21 принимает значение 1.\n",
    "\n",
    "Для валидационной выборки accuracy достигает максимума при глубине дерева 8, затем падает.\n",
    "\n",
    "При глубине дерева большей 8 модель становится переобученной и на новых данных выдает результаты гораздо хуже, чем на данных из обучающей выборки.\n",
    "\n",
    "Первый сплит в дереве производится по признаку mb_used(израсходованный интернет-трафик в Мб), если mb_used <= 24925.54, то данные сплитуются по столбцу calls, в противном случае опять по столбцу mb_used. Из визуального представления дерева можно заметить, что пользователи, которые активнее пользуются всеми возможностями мобильной связи, чаще выбирают тариф \"Ультра\", чем тариф \"Смарт\"."
   ]
  },
  {
   "cell_type": "markdown",
   "metadata": {},
   "source": [
    "### RandomForestClassifier"
   ]
  },
  {
   "cell_type": "code",
   "execution_count": 19,
   "metadata": {},
   "outputs": [
    {
     "name": "stdout",
     "output_type": "stream",
     "text": [
      "Best max depth: 9, best n_estimators: 40, best accuracy on valid: 0.8211508553654744\n"
     ]
    }
   ],
   "source": [
    "max_depths = range(1, 21)\n",
    "n_estimators_list = range(5, 101, 5)\n",
    "train_scores = pd.DataFrame(data=0, columns=max_depths, index=n_estimators_list)\n",
    "valid_scores = pd.DataFrame(data=0, columns=max_depths, index=n_estimators_list)\n",
    "best_max_depth = 0\n",
    "best_n_estimators = 0\n",
    "best_score = 0\n",
    "best_rf = None\n",
    "for n_estimators in n_estimators_list:\n",
    "    for max_depth in max_depths:\n",
    "        rf = RandomForestClassifier(max_depth=max_depth, n_estimators=n_estimators, n_jobs=-1, random_state=12345)\n",
    "        rf.fit(X_train, y_train)\n",
    "        train_scores.loc[n_estimators, max_depth] = accuracy_score(y_train, rf.predict(X_train))\n",
    "        valid_scores.loc[n_estimators, max_depth] = accuracy_score(y_valid, rf.predict(X_valid))\n",
    "        score = accuracy_score(y_valid, rf.predict(X_valid))\n",
    "        if score > best_score:\n",
    "            best_score = score\n",
    "            best_max_depth = max_depth\n",
    "            best_n_estimators = n_estimators\n",
    "            best_rf = rf\n",
    "print(f'Best max depth: {best_max_depth}, best n_estimators: {best_n_estimators}, best accuracy on valid: {best_score}')"
   ]
  },
  {
   "cell_type": "code",
   "execution_count": 20,
   "metadata": {},
   "outputs": [
    {
     "data": {
      "image/png": "[encoded data removed]",
      "text/plain": [
       "<Figure size 1200x900 with 2 Axes>"
      ]
     },
     "metadata": {},
     "output_type": "display_data"
    }
   ],
   "source": [
    "plt.figure(figsize=[12, 9])\n",
    "plt.title('Accuracy on train by max_depth and n_estimators')\n",
    "sns.heatmap(train_scores)\n",
    "plt.xlabel('Max_depth')\n",
    "plt.ylabel('N_estimators');"
   ]
  },
  {
   "cell_type": "code",
   "execution_count": 21,
   "metadata": {},
   "outputs": [
    {
     "data": {
      "image/png": "[encoded data removed]",
      "text/plain": [
       "<Figure size 1200x900 with 2 Axes>"
      ]
     },
     "metadata": {},
     "output_type": "display_data"
    }
   ],
   "source": [
    "plt.figure(figsize=[12, 9])\n",
    "plt.title('Accuracy on valid by max_depth and n_estimators')\n",
    "sns.heatmap(valid_scores)\n",
    "plt.xlabel('Max_depth')\n",
    "plt.ylabel('N_estimators');"
   ]
  },
  {
   "cell_type": "code",
   "execution_count": 22,
   "metadata": {},
   "outputs": [
    {
     "data": {
      "text/plain": [
       "0.5431472081218274"
      ]
     },
     "execution_count": 22,
     "metadata": {},
     "output_type": "execute_result"
    }
   ],
   "source": [
    "accuracy_score(y_valid[y_valid == 1], best_rf.predict(X_valid[y_valid == 1]))"
   ]
  },
  {
   "cell_type": "code",
   "execution_count": 23,
   "metadata": {},
   "outputs": [
    {
     "data": {
      "text/plain": [
       "0.9439461883408071"
      ]
     },
     "execution_count": 23,
     "metadata": {},
     "output_type": "execute_result"
    }
   ],
   "source": [
    "accuracy_score(y_valid[y_valid == 0], best_rf.predict(X_valid[y_valid == 0]))"
   ]
  },
  {
   "cell_type": "markdown",
   "metadata": {},
   "source": [
    "Для RandomForestClassifier лучшее значение accuracy на валидационной выборке равно 0.8212, достигается при max depth: 9, n_estimators: 40. Причем для тарифа \"Ультра\" accuracy равно всего лишь 0.5431, а для тарифа \"Смарт\" 0.9439. Возможно, так получилось, потому что в наборе данных гораздо меньше данных о пользователях с тарифом \"Ультра\".\n",
    "\n",
    "По тепловой карте зависимости accuracy от max_depth и n_estimators видно, что прирост в основном приносит увеличение глубины дерева, чем количества деревьев, прирост идет плавно, самые высокие результаты показываются при самых больших показателях max_depth и n_estimators, а самые скромные при маленьких. \n",
    "\n",
    "Тепловая карта accuracy по max_depth и n_estimators для валидационной выборки менее однородна, имеет светлое пятно (самые высокие показатели accyracy) при глубине дерева 8-9, количестве деревьев 35-55. Видимо, для больших значений max_depth и n_estimators происходит переобучение модели."
   ]
  },
  {
   "cell_type": "markdown",
   "metadata": {},
   "source": [
    "### LogisticRegression"
   ]
  },
  {
   "cell_type": "code",
   "execution_count": 24,
   "metadata": {},
   "outputs": [
    {
     "name": "stdout",
     "output_type": "stream",
     "text": [
      "Best C: 10, best fit_intercept: True, best penalty: l1, best accuracy on valid: 0.7402799377916018\n"
     ]
    }
   ],
   "source": [
    "best_C = None\n",
    "best_fit_intercept = None\n",
    "best_score = 0\n",
    "best_penalty = None\n",
    "best_lr = None\n",
    "for C in (0.01, 0.1, 1, 10, 100):\n",
    "    for fit_intercept in (True, False):\n",
    "        for penalty in ('l1', 'l2'):\n",
    "            lr = LogisticRegression(penalty=penalty, \n",
    "                                    solver='liblinear', \n",
    "                                    C=C, \n",
    "                                    fit_intercept=fit_intercept, \n",
    "                                    n_jobs=-1, \n",
    "                                    random_state=12345)\n",
    "            lr.fit(X_train, y_train)\n",
    "            score = accuracy_score(y_valid, lr.predict(X_valid))\n",
    "            if score > best_score:\n",
    "                best_score = score\n",
    "                best_C = C\n",
    "                best_fit_intercept = fit_intercept\n",
    "                best_penalty = penalty\n",
    "                best_lr = lr\n",
    "print(f'Best C: {best_C}, best fit_intercept: {best_fit_intercept}, best penalty: {best_penalty}, best accuracy on valid: {best_score}')        "
   ]
  },
  {
   "cell_type": "code",
   "execution_count": 25,
   "metadata": {
    "scrolled": true
   },
   "outputs": [
    {
     "data": {
      "text/plain": [
       "0.19796954314720813"
      ]
     },
     "execution_count": 25,
     "metadata": {},
     "output_type": "execute_result"
    }
   ],
   "source": [
    "accuracy_score(y_valid[y_valid == 1], best_lr.predict(X_valid[y_valid == 1]))"
   ]
  },
  {
   "cell_type": "code",
   "execution_count": 26,
   "metadata": {},
   "outputs": [
    {
     "data": {
      "text/plain": [
       "0.9327354260089686"
      ]
     },
     "execution_count": 26,
     "metadata": {},
     "output_type": "execute_result"
    }
   ],
   "source": [
    "accuracy_score(y_valid[y_valid == 0], best_dt.predict(X_valid[y_valid == 0]))"
   ]
  },
  {
   "cell_type": "markdown",
   "metadata": {},
   "source": [
    "Для LogisticRegression лучшее значение accuracy на валидационной выборке равно 0.7403. Причем для тарифа \"Ультра\" accuracy равно всего лишь 0.198, а для тарифа \"Смарт\" 0.9327. \n",
    "\n",
    "Лучшая модель из моделей LogisticRegression показала самые слабые значения accuracy, а лучшая модель из моделей RandomForestClassifier - самые сильные.\n",
    "\n",
    "Лучшая модель RandomForestClassifier(max depth: 9, n_estimators: 40)."
   ]
  },
  {
   "cell_type": "markdown",
   "metadata": {},
   "source": [
    "## Проверка модели на тестовой выборке"
   ]
  },
  {
   "cell_type": "code",
   "execution_count": 27,
   "metadata": {
    "scrolled": true
   },
   "outputs": [
    {
     "data": {
      "text/plain": [
       "0.8289269051321928"
      ]
     },
     "execution_count": 27,
     "metadata": {},
     "output_type": "execute_result"
    }
   ],
   "source": [
    "best_rf.fit(pd.concat([X_train, X_valid]), pd.concat([y_train, y_valid]))\n",
    "y_pred = best_rf.predict(X_test)\n",
    "accuracy_score(y_test, y_pred)"
   ]
  },
  {
   "cell_type": "code",
   "execution_count": 28,
   "metadata": {},
   "outputs": [
    {
     "data": {
      "text/plain": [
       "0.8222222222222222"
      ]
     },
     "execution_count": 28,
     "metadata": {},
     "output_type": "execute_result"
    }
   ],
   "source": [
    "precision_score(y_test, y_pred)"
   ]
  },
  {
   "cell_type": "code",
   "execution_count": 29,
   "metadata": {},
   "outputs": [
    {
     "data": {
      "text/plain": [
       "0.5634517766497462"
      ]
     },
     "execution_count": 29,
     "metadata": {},
     "output_type": "execute_result"
    }
   ],
   "source": [
    "recall_score(y_test, y_pred)"
   ]
  },
  {
   "cell_type": "code",
   "execution_count": 30,
   "metadata": {},
   "outputs": [
    {
     "data": {
      "text/plain": [
       "0.6686746987951807"
      ]
     },
     "execution_count": 30,
     "metadata": {},
     "output_type": "execute_result"
    }
   ],
   "source": [
    "f1_score(y_test, y_pred)"
   ]
  },
  {
   "cell_type": "code",
   "execution_count": 31,
   "metadata": {},
   "outputs": [
    {
     "data": {
      "text/plain": [
       "array([[422,  24],\n",
       "       [ 86, 111]], dtype=int64)"
      ]
     },
     "execution_count": 31,
     "metadata": {},
     "output_type": "execute_result"
    }
   ],
   "source": [
    "confusion_matrix(y_test, y_pred)"
   ]
  },
  {
   "cell_type": "markdown",
   "metadata": {},
   "source": [
    "Accuracy на тестовой выборке для лучшей модели (RandomForestClassifier(max depth=9, n_estimators=40)) 0.8289."
   ]
  },
  {
   "cell_type": "markdown",
   "metadata": {},
   "source": [
    "## Проверка модели на адекватность"
   ]
  },
  {
   "cell_type": "code",
   "execution_count": 32,
   "metadata": {},
   "outputs": [
    {
     "data": {
      "text/plain": [
       "0.6936236391912908"
      ]
     },
     "execution_count": 32,
     "metadata": {},
     "output_type": "execute_result"
    }
   ],
   "source": [
    "dc = DummyClassifier()\n",
    "dc.fit(X_train, y_train)\n",
    "accuracy_score(y_test, dc.predict(X_test))"
   ]
  },
  {
   "cell_type": "markdown",
   "metadata": {},
   "source": [
    "Наивный классификатор дает accuracy на тесте 0.6936, что на 0.1353 хуже, чем RandomForestClassifier, это хороший прирост. Выбранная лучшая модель адекватна. "
   ]
  }
 ],
 "metadata": {
  "ExecuteTimeLog": [
   {
    "duration": 421,
    "start_time": "2022-11-18T16:58:51.528Z"
   },
   {
    "duration": 124,
    "start_time": "2022-11-18T17:00:29.613Z"
   },
   {
    "duration": 12,
    "start_time": "2022-11-18T17:00:50.343Z"
   },
   {
    "duration": 28,
    "start_time": "2022-11-18T17:01:47.408Z"
   },
   {
    "duration": 3,
    "start_time": "2022-11-18T17:09:59.648Z"
   },
   {
    "duration": 3,
    "start_time": "2022-11-18T17:12:35.571Z"
   },
   {
    "duration": 30,
    "start_time": "2022-11-18T17:12:38.078Z"
   },
   {
    "duration": 9,
    "start_time": "2022-11-18T17:12:40.302Z"
   },
   {
    "duration": 11,
    "start_time": "2022-11-18T17:12:43.351Z"
   },
   {
    "duration": 22,
    "start_time": "2022-11-18T17:12:46.932Z"
   },
   {
    "duration": 13,
    "start_time": "2022-11-18T17:12:50.384Z"
   },
   {
    "duration": 5,
    "start_time": "2022-11-18T17:12:54.206Z"
   },
   {
    "duration": 102,
    "start_time": "2022-11-18T17:15:12.224Z"
   },
   {
    "duration": 6,
    "start_time": "2022-11-18T17:15:37.243Z"
   },
   {
    "duration": 14,
    "start_time": "2022-11-18T17:15:48.043Z"
   },
   {
    "duration": 14,
    "start_time": "2022-11-18T17:15:54.037Z"
   },
   {
    "duration": 6,
    "start_time": "2022-11-18T17:16:01.485Z"
   },
   {
    "duration": 6,
    "start_time": "2022-11-18T17:16:10.788Z"
   },
   {
    "duration": 12,
    "start_time": "2022-11-18T17:17:19.868Z"
   },
   {
    "duration": 13,
    "start_time": "2022-11-18T17:17:50.983Z"
   },
   {
    "duration": 6,
    "start_time": "2022-11-18T17:18:13.099Z"
   },
   {
    "duration": 13,
    "start_time": "2022-11-18T17:18:15.617Z"
   },
   {
    "duration": 6,
    "start_time": "2022-11-18T17:18:35.064Z"
   },
   {
    "duration": 12,
    "start_time": "2022-11-18T17:18:37.201Z"
   },
   {
    "duration": 13,
    "start_time": "2022-11-18T17:19:02.907Z"
   },
   {
    "duration": 14,
    "start_time": "2022-11-18T17:19:40.214Z"
   },
   {
    "duration": 4,
    "start_time": "2022-11-18T17:22:30.937Z"
   },
   {
    "duration": 4,
    "start_time": "2022-11-18T17:22:58.135Z"
   },
   {
    "duration": 6,
    "start_time": "2022-11-18T17:23:35.341Z"
   },
   {
    "duration": 8,
    "start_time": "2022-11-18T17:24:15.337Z"
   },
   {
    "duration": 13,
    "start_time": "2022-11-18T17:24:17.266Z"
   },
   {
    "duration": 5,
    "start_time": "2022-11-18T17:27:21.374Z"
   },
   {
    "duration": 5,
    "start_time": "2022-11-18T17:27:23.285Z"
   },
   {
    "duration": 8,
    "start_time": "2022-11-18T17:29:58.938Z"
   },
   {
    "duration": 4,
    "start_time": "2022-11-18T17:30:39.076Z"
   },
   {
    "duration": 7,
    "start_time": "2022-11-18T17:31:15.967Z"
   },
   {
    "duration": 6,
    "start_time": "2022-11-18T17:31:33.023Z"
   },
   {
    "duration": 5,
    "start_time": "2022-11-18T17:31:41.420Z"
   },
   {
    "duration": 2,
    "start_time": "2022-11-18T17:50:05.079Z"
   },
   {
    "duration": 6436,
    "start_time": "2022-11-18T17:51:18.212Z"
   },
   {
    "duration": 6558,
    "start_time": "2022-11-18T17:51:38.715Z"
   },
   {
    "duration": 3,
    "start_time": "2022-11-18T17:52:27.228Z"
   },
   {
    "duration": 5445,
    "start_time": "2022-11-18T17:52:29.481Z"
   },
   {
    "duration": 8,
    "start_time": "2022-11-18T17:54:34.858Z"
   },
   {
    "duration": 28,
    "start_time": "2022-11-18T17:55:22.280Z"
   },
   {
    "duration": 20,
    "start_time": "2022-11-18T17:57:48.832Z"
   },
   {
    "duration": 7,
    "start_time": "2022-11-18T17:59:06.558Z"
   },
   {
    "duration": 5,
    "start_time": "2022-11-18T17:59:42.233Z"
   },
   {
    "duration": 4,
    "start_time": "2022-11-18T17:59:59.048Z"
   },
   {
    "duration": 17,
    "start_time": "2022-11-18T18:00:32.966Z"
   },
   {
    "duration": 1381,
    "start_time": "2022-11-18T18:20:49.510Z"
   },
   {
    "duration": 5,
    "start_time": "2022-11-18T18:21:09.348Z"
   },
   {
    "duration": 5,
    "start_time": "2022-11-18T18:21:21.500Z"
   },
   {
    "duration": 687,
    "start_time": "2022-11-18T18:21:34.389Z"
   },
   {
    "duration": 4,
    "start_time": "2022-11-18T18:21:38.209Z"
   },
   {
    "duration": 681,
    "start_time": "2022-11-18T18:21:53.628Z"
   },
   {
    "duration": 4,
    "start_time": "2022-11-18T18:21:57.548Z"
   },
   {
    "duration": 5,
    "start_time": "2022-11-18T18:22:05.165Z"
   },
   {
    "duration": 240,
    "start_time": "2022-11-18T18:22:18.755Z"
   },
   {
    "duration": 6,
    "start_time": "2022-11-18T18:22:21.637Z"
   },
   {
    "duration": 659,
    "start_time": "2022-11-18T18:22:28.599Z"
   },
   {
    "duration": 4,
    "start_time": "2022-11-18T18:22:32.888Z"
   },
   {
    "duration": 481,
    "start_time": "2022-11-18T18:23:10.398Z"
   },
   {
    "duration": 144,
    "start_time": "2022-11-18T18:23:47.456Z"
   },
   {
    "duration": 158,
    "start_time": "2022-11-18T18:24:07.009Z"
   },
   {
    "duration": 404,
    "start_time": "2022-11-18T18:24:26.563Z"
   },
   {
    "duration": 420,
    "start_time": "2022-11-18T18:24:30.409Z"
   },
   {
    "duration": 176,
    "start_time": "2022-11-18T18:24:34.209Z"
   },
   {
    "duration": 33,
    "start_time": "2022-11-18T18:25:03.437Z"
   },
   {
    "duration": 16,
    "start_time": "2022-11-18T18:25:17.485Z"
   },
   {
    "duration": 198,
    "start_time": "2022-11-18T18:25:30.271Z"
   },
   {
    "duration": 196,
    "start_time": "2022-11-18T18:25:47.713Z"
   },
   {
    "duration": 14,
    "start_time": "2022-11-18T18:36:15.711Z"
   },
   {
    "duration": 17,
    "start_time": "2022-11-18T18:37:25.488Z"
   },
   {
    "duration": 11,
    "start_time": "2022-11-18T18:39:45.021Z"
   },
   {
    "duration": 161,
    "start_time": "2022-11-18T18:41:27.705Z"
   },
   {
    "duration": 183,
    "start_time": "2022-11-18T18:41:37.192Z"
   },
   {
    "duration": 154,
    "start_time": "2022-11-18T18:41:57.375Z"
   },
   {
    "duration": 149,
    "start_time": "2022-11-18T18:44:16.747Z"
   },
   {
    "duration": 169,
    "start_time": "2022-11-18T18:44:44.328Z"
   },
   {
    "duration": 208,
    "start_time": "2022-11-18T18:46:29.572Z"
   },
   {
    "duration": 184,
    "start_time": "2022-11-18T18:46:45.758Z"
   },
   {
    "duration": 201,
    "start_time": "2022-11-18T18:46:52.413Z"
   },
   {
    "duration": 192,
    "start_time": "2022-11-18T18:47:04.959Z"
   },
   {
    "duration": 195,
    "start_time": "2022-11-18T18:48:33.878Z"
   },
   {
    "duration": 199,
    "start_time": "2022-11-18T18:49:07.329Z"
   },
   {
    "duration": 303,
    "start_time": "2022-11-18T18:52:28.607Z"
   },
   {
    "duration": 369,
    "start_time": "2022-11-18T18:58:11.345Z"
   },
   {
    "duration": 296,
    "start_time": "2022-11-18T18:58:15.362Z"
   },
   {
    "duration": 4,
    "start_time": "2022-11-18T18:59:32.888Z"
   },
   {
    "duration": 4,
    "start_time": "2022-11-18T19:01:09.829Z"
   },
   {
    "duration": 5266,
    "start_time": "2022-11-18T19:01:28.401Z"
   },
   {
    "duration": 5062,
    "start_time": "2022-11-18T19:01:59.542Z"
   },
   {
    "duration": 5227,
    "start_time": "2022-11-18T19:03:19.177Z"
   },
   {
    "duration": 5298,
    "start_time": "2022-11-18T19:03:40.098Z"
   },
   {
    "duration": 873,
    "start_time": "2022-11-18T19:04:36.928Z"
   },
   {
    "duration": 476,
    "start_time": "2022-11-18T19:04:46.866Z"
   },
   {
    "duration": 3,
    "start_time": "2022-11-18T19:06:18.614Z"
   },
   {
    "duration": 1549,
    "start_time": "2022-11-19T12:33:27.934Z"
   },
   {
    "duration": 115,
    "start_time": "2022-11-19T12:33:31.797Z"
   },
   {
    "duration": 15,
    "start_time": "2022-11-19T12:33:34.498Z"
   },
   {
    "duration": 12,
    "start_time": "2022-11-19T12:33:36.922Z"
   },
   {
    "duration": 23,
    "start_time": "2022-11-19T12:33:39.455Z"
   },
   {
    "duration": 15,
    "start_time": "2022-11-19T12:33:47.496Z"
   },
   {
    "duration": 5,
    "start_time": "2022-11-19T12:33:50.880Z"
   },
   {
    "duration": 8,
    "start_time": "2022-11-19T12:33:54.145Z"
   },
   {
    "duration": 4,
    "start_time": "2022-11-19T12:33:56.522Z"
   },
   {
    "duration": 7,
    "start_time": "2022-11-19T12:33:58.682Z"
   },
   {
    "duration": 6,
    "start_time": "2022-11-19T12:34:04.681Z"
   },
   {
    "duration": 6,
    "start_time": "2022-11-19T12:34:06.912Z"
   },
   {
    "duration": 362,
    "start_time": "2022-11-19T12:34:10.181Z"
   },
   {
    "duration": 391,
    "start_time": "2022-11-19T12:34:13.093Z"
   },
   {
    "duration": 138,
    "start_time": "2022-11-19T13:15:56.170Z"
   },
   {
    "duration": 32973,
    "start_time": "2022-11-19T13:16:34.394Z"
   },
   {
    "duration": 32907,
    "start_time": "2022-11-19T13:18:42.580Z"
   },
   {
    "duration": 40703,
    "start_time": "2022-11-19T13:19:38.554Z"
   },
   {
    "duration": 39708,
    "start_time": "2022-11-19T13:20:53.575Z"
   },
   {
    "duration": 6,
    "start_time": "2022-11-19T13:22:14.059Z"
   },
   {
    "duration": 39181,
    "start_time": "2022-11-19T13:51:13.750Z"
   },
   {
    "duration": 39608,
    "start_time": "2022-11-19T13:52:18.892Z"
   },
   {
    "duration": 5,
    "start_time": "2022-11-19T13:53:18.522Z"
   },
   {
    "duration": 2188,
    "start_time": "2022-11-19T13:55:03.950Z"
   },
   {
    "duration": 2021,
    "start_time": "2022-11-19T13:58:01.540Z"
   },
   {
    "duration": 361,
    "start_time": "2022-11-19T13:58:54.397Z"
   },
   {
    "duration": 334,
    "start_time": "2022-11-19T14:00:30.342Z"
   },
   {
    "duration": 338,
    "start_time": "2022-11-19T14:01:35.126Z"
   },
   {
    "duration": 335,
    "start_time": "2022-11-19T14:02:08.221Z"
   },
   {
    "duration": 339,
    "start_time": "2022-11-19T14:02:16.376Z"
   },
   {
    "duration": 347,
    "start_time": "2022-11-19T14:02:58.884Z"
   },
   {
    "duration": 4,
    "start_time": "2022-11-19T14:27:11.270Z"
   },
   {
    "duration": 32,
    "start_time": "2022-11-19T14:27:11.276Z"
   },
   {
    "duration": 10,
    "start_time": "2022-11-19T14:27:11.310Z"
   },
   {
    "duration": 10,
    "start_time": "2022-11-19T14:27:11.322Z"
   },
   {
    "duration": 22,
    "start_time": "2022-11-19T14:27:11.334Z"
   },
   {
    "duration": 12,
    "start_time": "2022-11-19T14:27:11.357Z"
   },
   {
    "duration": 8,
    "start_time": "2022-11-19T14:27:11.370Z"
   },
   {
    "duration": 20,
    "start_time": "2022-11-19T14:27:11.380Z"
   },
   {
    "duration": 9,
    "start_time": "2022-11-19T14:27:11.401Z"
   },
   {
    "duration": 5,
    "start_time": "2022-11-19T14:27:11.411Z"
   },
   {
    "duration": 6,
    "start_time": "2022-11-19T14:27:11.418Z"
   },
   {
    "duration": 6,
    "start_time": "2022-11-19T14:27:11.426Z"
   },
   {
    "duration": 7,
    "start_time": "2022-11-19T14:27:11.433Z"
   },
   {
    "duration": 367,
    "start_time": "2022-11-19T14:27:11.442Z"
   },
   {
    "duration": 253,
    "start_time": "2022-11-19T14:27:18.535Z"
   },
   {
    "duration": 14,
    "start_time": "2022-11-19T14:28:51.539Z"
   },
   {
    "duration": 5,
    "start_time": "2022-11-19T14:29:20.221Z"
   },
   {
    "duration": 12,
    "start_time": "2022-11-19T14:29:29.798Z"
   },
   {
    "duration": 7,
    "start_time": "2022-11-19T14:30:17.580Z"
   },
   {
    "duration": 8,
    "start_time": "2022-11-19T14:30:42.050Z"
   },
   {
    "duration": 7,
    "start_time": "2022-11-19T14:31:54.337Z"
   },
   {
    "duration": 8,
    "start_time": "2022-11-19T14:31:58.732Z"
   },
   {
    "duration": 9,
    "start_time": "2022-11-19T14:32:01.479Z"
   },
   {
    "duration": 11,
    "start_time": "2022-11-19T14:32:11.918Z"
   },
   {
    "duration": 6,
    "start_time": "2022-11-19T14:32:23.245Z"
   },
   {
    "duration": 15,
    "start_time": "2022-11-19T14:40:12.218Z"
   },
   {
    "duration": 14,
    "start_time": "2022-11-19T14:40:32.929Z"
   },
   {
    "duration": 15,
    "start_time": "2022-11-19T14:40:50.544Z"
   },
   {
    "duration": 3,
    "start_time": "2022-11-19T14:45:51.789Z"
   },
   {
    "duration": 764,
    "start_time": "2022-11-19T15:14:04.259Z"
   },
   {
    "duration": 4,
    "start_time": "2022-11-19T15:15:01.928Z"
   },
   {
    "duration": 721,
    "start_time": "2022-11-19T15:15:12.115Z"
   },
   {
    "duration": 775,
    "start_time": "2022-11-19T15:15:51.047Z"
   },
   {
    "duration": 766,
    "start_time": "2022-11-19T15:16:32.375Z"
   },
   {
    "duration": 184,
    "start_time": "2022-11-19T15:19:33.956Z"
   },
   {
    "duration": 207,
    "start_time": "2022-11-19T15:20:25.025Z"
   },
   {
    "duration": 196,
    "start_time": "2022-11-19T15:20:35.812Z"
   },
   {
    "duration": 168,
    "start_time": "2022-11-19T15:21:25.439Z"
   },
   {
    "duration": 7,
    "start_time": "2022-11-19T15:24:04.868Z"
   },
   {
    "duration": 7,
    "start_time": "2022-11-19T15:24:24.570Z"
   },
   {
    "duration": 15,
    "start_time": "2022-11-19T15:30:44.331Z"
   },
   {
    "duration": 5,
    "start_time": "2022-11-19T15:34:03.139Z"
   },
   {
    "duration": 7,
    "start_time": "2022-11-19T15:34:50.170Z"
   },
   {
    "duration": 6,
    "start_time": "2022-11-19T15:35:22.297Z"
   },
   {
    "duration": 3,
    "start_time": "2022-11-19T15:39:08.959Z"
   },
   {
    "duration": 4,
    "start_time": "2022-11-19T15:41:13.777Z"
   },
   {
    "duration": 32,
    "start_time": "2022-11-19T15:41:13.784Z"
   },
   {
    "duration": 10,
    "start_time": "2022-11-19T15:41:13.818Z"
   },
   {
    "duration": 19,
    "start_time": "2022-11-19T15:41:13.829Z"
   },
   {
    "duration": 23,
    "start_time": "2022-11-19T15:41:13.850Z"
   },
   {
    "duration": 13,
    "start_time": "2022-11-19T15:41:13.875Z"
   },
   {
    "duration": 7,
    "start_time": "2022-11-19T15:41:13.896Z"
   },
   {
    "duration": 12,
    "start_time": "2022-11-19T15:41:13.905Z"
   },
   {
    "duration": 19,
    "start_time": "2022-11-19T15:41:13.919Z"
   },
   {
    "duration": 10,
    "start_time": "2022-11-19T15:41:13.941Z"
   },
   {
    "duration": 13,
    "start_time": "2022-11-19T15:41:13.952Z"
   },
   {
    "duration": 9,
    "start_time": "2022-11-19T15:41:13.966Z"
   },
   {
    "duration": 8,
    "start_time": "2022-11-19T15:41:13.976Z"
   },
   {
    "duration": 368,
    "start_time": "2022-11-19T15:41:13.999Z"
   },
   {
    "duration": 289,
    "start_time": "2022-11-19T15:41:14.370Z"
   },
   {
    "duration": 9,
    "start_time": "2022-11-19T15:41:14.661Z"
   },
   {
    "duration": 26,
    "start_time": "2022-11-19T15:41:14.672Z"
   },
   {
    "duration": 1306,
    "start_time": "2022-11-19T15:41:40.509Z"
   },
   {
    "duration": 29,
    "start_time": "2022-11-19T15:41:41.818Z"
   },
   {
    "duration": 13,
    "start_time": "2022-11-19T15:41:41.849Z"
   },
   {
    "duration": 11,
    "start_time": "2022-11-19T15:41:41.864Z"
   },
   {
    "duration": 34,
    "start_time": "2022-11-19T15:41:41.877Z"
   },
   {
    "duration": 15,
    "start_time": "2022-11-19T15:41:41.912Z"
   },
   {
    "duration": 6,
    "start_time": "2022-11-19T15:41:41.929Z"
   },
   {
    "duration": 8,
    "start_time": "2022-11-19T15:41:41.936Z"
   },
   {
    "duration": 9,
    "start_time": "2022-11-19T15:41:41.945Z"
   },
   {
    "duration": 7,
    "start_time": "2022-11-19T15:41:41.955Z"
   },
   {
    "duration": 39,
    "start_time": "2022-11-19T15:41:41.963Z"
   },
   {
    "duration": 8,
    "start_time": "2022-11-19T15:41:42.004Z"
   },
   {
    "duration": 8,
    "start_time": "2022-11-19T15:41:42.013Z"
   },
   {
    "duration": 359,
    "start_time": "2022-11-19T15:41:42.023Z"
   },
   {
    "duration": 274,
    "start_time": "2022-11-19T15:41:42.384Z"
   },
   {
    "duration": 8,
    "start_time": "2022-11-19T15:41:42.659Z"
   },
   {
    "duration": 7,
    "start_time": "2022-11-19T15:41:42.669Z"
   },
   {
    "duration": 39309,
    "start_time": "2022-11-19T15:41:42.677Z"
   },
   {
    "duration": 390,
    "start_time": "2022-11-19T15:42:21.988Z"
   },
   {
    "duration": 429,
    "start_time": "2022-11-19T15:42:22.380Z"
   },
   {
    "duration": 13,
    "start_time": "2022-11-19T15:42:22.811Z"
   },
   {
    "duration": 14,
    "start_time": "2022-11-19T15:42:22.826Z"
   },
   {
    "duration": 205,
    "start_time": "2022-11-19T15:42:22.842Z"
   },
   {
    "duration": 8,
    "start_time": "2022-11-19T15:42:23.049Z"
   },
   {
    "duration": 11,
    "start_time": "2022-11-19T15:42:23.058Z"
   },
   {
    "duration": 28,
    "start_time": "2022-11-19T15:42:23.071Z"
   },
   {
    "duration": 5,
    "start_time": "2022-11-19T15:42:23.102Z"
   },
   {
    "duration": 1495,
    "start_time": "2022-11-19T15:44:54.796Z"
   },
   {
    "duration": 29,
    "start_time": "2022-11-19T15:44:56.293Z"
   },
   {
    "duration": 14,
    "start_time": "2022-11-19T15:44:56.324Z"
   },
   {
    "duration": 11,
    "start_time": "2022-11-19T15:44:56.341Z"
   },
   {
    "duration": 25,
    "start_time": "2022-11-19T15:44:56.354Z"
   },
   {
    "duration": 17,
    "start_time": "2022-11-19T15:44:56.380Z"
   },
   {
    "duration": 6,
    "start_time": "2022-11-19T15:44:56.399Z"
   },
   {
    "duration": 7,
    "start_time": "2022-11-19T15:44:56.406Z"
   },
   {
    "duration": 9,
    "start_time": "2022-11-19T15:44:56.415Z"
   },
   {
    "duration": 4,
    "start_time": "2022-11-19T15:44:56.427Z"
   },
   {
    "duration": 12,
    "start_time": "2022-11-19T15:44:56.432Z"
   },
   {
    "duration": 8,
    "start_time": "2022-11-19T15:44:56.446Z"
   },
   {
    "duration": 7,
    "start_time": "2022-11-19T15:44:56.455Z"
   },
   {
    "duration": 393,
    "start_time": "2022-11-19T15:44:56.463Z"
   },
   {
    "duration": 273,
    "start_time": "2022-11-19T15:44:56.857Z"
   },
   {
    "duration": 9,
    "start_time": "2022-11-19T15:44:57.132Z"
   },
   {
    "duration": 9,
    "start_time": "2022-11-19T15:44:57.143Z"
   },
   {
    "duration": 39029,
    "start_time": "2022-11-19T15:44:57.154Z"
   },
   {
    "duration": 404,
    "start_time": "2022-11-19T15:45:36.185Z"
   },
   {
    "duration": 413,
    "start_time": "2022-11-19T15:45:36.591Z"
   },
   {
    "duration": 13,
    "start_time": "2022-11-19T15:45:37.006Z"
   },
   {
    "duration": 13,
    "start_time": "2022-11-19T15:45:37.020Z"
   },
   {
    "duration": 197,
    "start_time": "2022-11-19T15:45:37.034Z"
   },
   {
    "duration": 8,
    "start_time": "2022-11-19T15:45:37.233Z"
   },
   {
    "duration": 9,
    "start_time": "2022-11-19T15:45:37.242Z"
   },
   {
    "duration": 15,
    "start_time": "2022-11-19T15:45:37.253Z"
   },
   {
    "duration": 28,
    "start_time": "2022-11-19T15:45:37.270Z"
   },
   {
    "duration": 2020,
    "start_time": "2022-11-19T15:58:35.065Z"
   },
   {
    "duration": 32,
    "start_time": "2022-11-19T15:58:37.088Z"
   },
   {
    "duration": 15,
    "start_time": "2022-11-19T15:58:37.121Z"
   },
   {
    "duration": 13,
    "start_time": "2022-11-19T15:58:37.138Z"
   },
   {
    "duration": 28,
    "start_time": "2022-11-19T15:58:37.153Z"
   },
   {
    "duration": 37,
    "start_time": "2022-11-19T15:58:37.182Z"
   },
   {
    "duration": 6,
    "start_time": "2022-11-19T15:58:37.221Z"
   },
   {
    "duration": 8,
    "start_time": "2022-11-19T15:58:37.229Z"
   },
   {
    "duration": 10,
    "start_time": "2022-11-19T15:58:37.238Z"
   },
   {
    "duration": 5,
    "start_time": "2022-11-19T15:58:37.251Z"
   },
   {
    "duration": 7,
    "start_time": "2022-11-19T15:58:37.257Z"
   },
   {
    "duration": 51,
    "start_time": "2022-11-19T15:58:37.266Z"
   },
   {
    "duration": 11,
    "start_time": "2022-11-19T15:58:37.318Z"
   },
   {
    "duration": 392,
    "start_time": "2022-11-19T15:58:37.331Z"
   },
   {
    "duration": 272,
    "start_time": "2022-11-19T15:58:37.725Z"
   },
   {
    "duration": 14,
    "start_time": "2022-11-19T15:58:37.998Z"
   },
   {
    "duration": 7,
    "start_time": "2022-11-19T15:58:38.014Z"
   },
   {
    "duration": 40689,
    "start_time": "2022-11-19T15:58:38.022Z"
   },
   {
    "duration": 362,
    "start_time": "2022-11-19T15:59:18.712Z"
   },
   {
    "duration": 452,
    "start_time": "2022-11-19T15:59:19.075Z"
   },
   {
    "duration": 15,
    "start_time": "2022-11-19T15:59:19.528Z"
   },
   {
    "duration": 13,
    "start_time": "2022-11-19T15:59:19.545Z"
   },
   {
    "duration": 209,
    "start_time": "2022-11-19T15:59:19.560Z"
   },
   {
    "duration": 8,
    "start_time": "2022-11-19T15:59:19.770Z"
   },
   {
    "duration": 12,
    "start_time": "2022-11-19T15:59:19.779Z"
   },
   {
    "duration": 32,
    "start_time": "2022-11-19T15:59:19.793Z"
   },
   {
    "duration": 6,
    "start_time": "2022-11-19T15:59:19.827Z"
   },
   {
    "duration": 4,
    "start_time": "2022-11-19T17:31:38.415Z"
   },
   {
    "duration": 73,
    "start_time": "2022-11-19T17:31:40.791Z"
   },
   {
    "duration": 3,
    "start_time": "2022-11-19T17:31:43.747Z"
   },
   {
    "duration": 102,
    "start_time": "2022-11-19T17:39:56.524Z"
   },
   {
    "duration": 3,
    "start_time": "2022-11-19T17:40:06.759Z"
   },
   {
    "duration": 4,
    "start_time": "2022-11-19T17:40:38.289Z"
   },
   {
    "duration": 7,
    "start_time": "2022-11-19T17:40:38.294Z"
   },
   {
    "duration": 31,
    "start_time": "2022-11-19T17:40:38.302Z"
   },
   {
    "duration": 11,
    "start_time": "2022-11-19T17:40:38.334Z"
   },
   {
    "duration": 12,
    "start_time": "2022-11-19T17:40:38.348Z"
   },
   {
    "duration": 31,
    "start_time": "2022-11-19T17:40:38.362Z"
   },
   {
    "duration": 16,
    "start_time": "2022-11-19T17:40:38.395Z"
   },
   {
    "duration": 14,
    "start_time": "2022-11-19T17:40:38.413Z"
   },
   {
    "duration": 9,
    "start_time": "2022-11-19T17:40:38.429Z"
   },
   {
    "duration": 13,
    "start_time": "2022-11-19T17:40:38.440Z"
   },
   {
    "duration": 5,
    "start_time": "2022-11-19T17:40:38.455Z"
   },
   {
    "duration": 8,
    "start_time": "2022-11-19T17:40:38.462Z"
   },
   {
    "duration": 31,
    "start_time": "2022-11-19T17:40:38.471Z"
   },
   {
    "duration": 9,
    "start_time": "2022-11-19T17:40:38.505Z"
   },
   {
    "duration": 350,
    "start_time": "2022-11-19T17:40:38.516Z"
   },
   {
    "duration": 268,
    "start_time": "2022-11-19T17:40:38.868Z"
   },
   {
    "duration": 7,
    "start_time": "2022-11-19T17:40:39.137Z"
   },
   {
    "duration": 7,
    "start_time": "2022-11-19T17:40:39.146Z"
   },
   {
    "duration": 4861,
    "start_time": "2022-11-19T17:41:16.226Z"
   },
   {
    "duration": 5155,
    "start_time": "2022-11-19T17:41:21.668Z"
   },
   {
    "duration": 815,
    "start_time": "2022-11-19T17:42:10.019Z"
   },
   {
    "duration": 853,
    "start_time": "2022-11-19T17:42:26.019Z"
   },
   {
    "duration": 852,
    "start_time": "2022-11-19T17:42:42.242Z"
   },
   {
    "duration": 826,
    "start_time": "2022-11-19T17:42:52.580Z"
   },
   {
    "duration": 822,
    "start_time": "2022-11-19T17:43:06.484Z"
   },
   {
    "duration": 472,
    "start_time": "2022-11-19T17:44:14.862Z"
   },
   {
    "duration": 460,
    "start_time": "2022-11-19T17:44:41.536Z"
   },
   {
    "duration": 824,
    "start_time": "2022-11-19T17:44:46.676Z"
   },
   {
    "duration": 902,
    "start_time": "2022-11-19T17:44:55.438Z"
   },
   {
    "duration": 904,
    "start_time": "2022-11-19T17:45:01.635Z"
   },
   {
    "duration": 855,
    "start_time": "2022-11-19T17:45:11.113Z"
   },
   {
    "duration": 919,
    "start_time": "2022-11-19T17:45:22.670Z"
   },
   {
    "duration": 929,
    "start_time": "2022-11-19T17:46:07.120Z"
   },
   {
    "duration": 685,
    "start_time": "2022-11-19T17:46:16.801Z"
   },
   {
    "duration": 526,
    "start_time": "2022-11-19T17:46:37.018Z"
   },
   {
    "duration": 538,
    "start_time": "2022-11-19T17:46:51.434Z"
   },
   {
    "duration": 547,
    "start_time": "2022-11-19T17:47:45.190Z"
   },
   {
    "duration": 496,
    "start_time": "2022-11-19T17:48:03.130Z"
   },
   {
    "duration": 908,
    "start_time": "2022-11-19T17:48:14.459Z"
   },
   {
    "duration": 946,
    "start_time": "2022-11-19T17:48:23.007Z"
   },
   {
    "duration": 1031,
    "start_time": "2022-11-19T17:48:34.802Z"
   },
   {
    "duration": 985,
    "start_time": "2022-11-19T17:48:43.843Z"
   },
   {
    "duration": 1019,
    "start_time": "2022-11-19T17:50:43.160Z"
   },
   {
    "duration": 895,
    "start_time": "2022-11-19T17:50:59.364Z"
   },
   {
    "duration": 879,
    "start_time": "2022-11-19T17:51:10.880Z"
   },
   {
    "duration": 879,
    "start_time": "2022-11-19T17:51:20.218Z"
   },
   {
    "duration": 1097,
    "start_time": "2022-11-19T17:56:51.241Z"
   },
   {
    "duration": 878,
    "start_time": "2022-11-19T17:58:36.552Z"
   },
   {
    "duration": 901,
    "start_time": "2022-11-19T17:58:48.968Z"
   },
   {
    "duration": 926,
    "start_time": "2022-11-19T17:59:11.414Z"
   },
   {
    "duration": 958,
    "start_time": "2022-11-19T17:59:19.965Z"
   },
   {
    "duration": 935,
    "start_time": "2022-11-19T17:59:28.899Z"
   },
   {
    "duration": 924,
    "start_time": "2022-11-19T17:59:38.478Z"
   },
   {
    "duration": 947,
    "start_time": "2022-11-19T18:00:44.358Z"
   },
   {
    "duration": 966,
    "start_time": "2022-11-19T18:01:04.855Z"
   },
   {
    "duration": 3,
    "start_time": "2022-11-19T18:30:15.206Z"
   },
   {
    "duration": 23,
    "start_time": "2022-11-19T18:30:15.211Z"
   },
   {
    "duration": 51,
    "start_time": "2022-11-19T18:30:15.235Z"
   },
   {
    "duration": 8,
    "start_time": "2022-11-19T18:30:15.289Z"
   },
   {
    "duration": 44,
    "start_time": "2022-11-19T18:30:15.298Z"
   },
   {
    "duration": 42,
    "start_time": "2022-11-19T18:30:15.343Z"
   },
   {
    "duration": 32,
    "start_time": "2022-11-19T18:30:15.386Z"
   },
   {
    "duration": 35,
    "start_time": "2022-11-19T18:30:15.420Z"
   },
   {
    "duration": 40,
    "start_time": "2022-11-19T18:30:15.456Z"
   },
   {
    "duration": 34,
    "start_time": "2022-11-19T18:30:15.498Z"
   },
   {
    "duration": 34,
    "start_time": "2022-11-19T18:30:15.534Z"
   },
   {
    "duration": 31,
    "start_time": "2022-11-19T18:30:15.570Z"
   },
   {
    "duration": 32,
    "start_time": "2022-11-19T18:30:15.603Z"
   },
   {
    "duration": 38,
    "start_time": "2022-11-19T18:30:15.637Z"
   },
   {
    "duration": 406,
    "start_time": "2022-11-19T18:30:15.677Z"
   },
   {
    "duration": 279,
    "start_time": "2022-11-19T18:30:16.085Z"
   },
   {
    "duration": 8,
    "start_time": "2022-11-19T18:30:16.365Z"
   },
   {
    "duration": 24,
    "start_time": "2022-11-19T18:30:16.374Z"
   },
   {
    "duration": 926,
    "start_time": "2022-11-19T18:30:16.400Z"
   },
   {
    "duration": 13,
    "start_time": "2022-11-19T18:31:33.655Z"
   },
   {
    "duration": 5,
    "start_time": "2022-11-19T18:31:45.515Z"
   },
   {
    "duration": 6,
    "start_time": "2022-11-19T18:32:18.487Z"
   },
   {
    "duration": 71601,
    "start_time": "2022-11-19T18:34:30.106Z"
   },
   {
    "duration": 56,
    "start_time": "2022-11-19T18:36:16.742Z"
   },
   {
    "duration": 444,
    "start_time": "2022-11-19T18:36:40.578Z"
   },
   {
    "duration": 410,
    "start_time": "2022-11-19T18:36:59.821Z"
   },
   {
    "duration": 418,
    "start_time": "2022-11-19T18:37:04.630Z"
   },
   {
    "duration": 429,
    "start_time": "2022-11-19T18:37:16.088Z"
   },
   {
    "duration": 501,
    "start_time": "2022-11-19T18:38:56.069Z"
   },
   {
    "duration": 442,
    "start_time": "2022-11-19T18:39:17.262Z"
   },
   {
    "duration": 409,
    "start_time": "2022-11-19T18:39:39.133Z"
   },
   {
    "duration": 18,
    "start_time": "2022-11-19T19:33:15.143Z"
   },
   {
    "duration": 11,
    "start_time": "2022-11-19T19:33:42.271Z"
   },
   {
    "duration": 6,
    "start_time": "2022-11-19T19:34:26.101Z"
   },
   {
    "duration": 6,
    "start_time": "2022-11-19T19:35:10.573Z"
   },
   {
    "duration": 151,
    "start_time": "2022-11-19T19:35:29.719Z"
   },
   {
    "duration": 4,
    "start_time": "2022-11-19T19:36:32.536Z"
   },
   {
    "duration": 5,
    "start_time": "2022-11-19T19:56:37.245Z"
   },
   {
    "duration": 151,
    "start_time": "2022-11-19T19:57:31.603Z"
   },
   {
    "duration": 7,
    "start_time": "2022-11-19T19:57:40.020Z"
   },
   {
    "duration": 7,
    "start_time": "2022-11-19T19:57:49.196Z"
   },
   {
    "duration": 7,
    "start_time": "2022-11-19T19:58:00.153Z"
   },
   {
    "duration": 6,
    "start_time": "2022-11-19T19:58:13.645Z"
   },
   {
    "duration": 1363,
    "start_time": "2022-11-19T20:08:59.893Z"
   },
   {
    "duration": 3,
    "start_time": "2022-11-19T20:09:01.258Z"
   },
   {
    "duration": 55,
    "start_time": "2022-11-19T20:09:01.263Z"
   },
   {
    "duration": 15,
    "start_time": "2022-11-19T20:09:01.320Z"
   },
   {
    "duration": 25,
    "start_time": "2022-11-19T20:09:01.338Z"
   },
   {
    "duration": 37,
    "start_time": "2022-11-19T20:09:01.365Z"
   },
   {
    "duration": 13,
    "start_time": "2022-11-19T20:09:01.404Z"
   },
   {
    "duration": 21,
    "start_time": "2022-11-19T20:09:01.419Z"
   },
   {
    "duration": 14,
    "start_time": "2022-11-19T20:09:01.442Z"
   },
   {
    "duration": 19,
    "start_time": "2022-11-19T20:09:01.458Z"
   },
   {
    "duration": 7,
    "start_time": "2022-11-19T20:09:01.479Z"
   },
   {
    "duration": 15,
    "start_time": "2022-11-19T20:09:01.487Z"
   },
   {
    "duration": 8,
    "start_time": "2022-11-19T20:09:01.504Z"
   },
   {
    "duration": 25,
    "start_time": "2022-11-19T20:09:01.514Z"
   },
   {
    "duration": 337,
    "start_time": "2022-11-19T20:09:01.540Z"
   },
   {
    "duration": 270,
    "start_time": "2022-11-19T20:09:01.878Z"
   },
   {
    "duration": 8,
    "start_time": "2022-11-19T20:09:02.149Z"
   },
   {
    "duration": 21,
    "start_time": "2022-11-19T20:09:02.158Z"
   },
   {
    "duration": 932,
    "start_time": "2022-11-19T20:09:02.181Z"
   },
   {
    "duration": 72387,
    "start_time": "2022-11-19T20:09:03.115Z"
   },
   {
    "duration": 440,
    "start_time": "2022-11-19T20:10:15.504Z"
   },
   {
    "duration": 492,
    "start_time": "2022-11-19T20:10:15.946Z"
   },
   {
    "duration": 14,
    "start_time": "2022-11-19T20:10:16.440Z"
   },
   {
    "duration": 13,
    "start_time": "2022-11-19T20:10:16.456Z"
   },
   {
    "duration": 184,
    "start_time": "2022-11-19T20:10:16.471Z"
   },
   {
    "duration": 8,
    "start_time": "2022-11-19T20:10:16.657Z"
   },
   {
    "duration": 10,
    "start_time": "2022-11-19T20:10:16.666Z"
   },
   {
    "duration": 176,
    "start_time": "2022-11-19T20:10:16.677Z"
   },
   {
    "duration": 5,
    "start_time": "2022-11-19T20:10:16.854Z"
   },
   {
    "duration": 17,
    "start_time": "2022-11-19T20:10:16.861Z"
   },
   {
    "duration": 7,
    "start_time": "2022-11-19T20:10:16.880Z"
   },
   {
    "duration": 11,
    "start_time": "2022-11-19T20:10:16.888Z"
   },
   {
    "duration": 7,
    "start_time": "2022-11-19T20:10:16.900Z"
   }
  ],
  "kernelspec": {
   "display_name": "Python 3 (ipykernel)",
   "language": "python",
   "name": "python3"
  },
  "language_info": {
   "codemirror_mode": {
    "name": "ipython",
    "version": 3
   },
   "file_extension": ".py",
   "mimetype": "text/x-python",
   "name": "python",
   "nbconvert_exporter": "python",
   "pygments_lexer": "ipython3",
   "version": "3.9.16"
  },
  "toc": {
   "base_numbering": 1,
   "nav_menu": {},
   "number_sections": true,
   "sideBar": true,
   "skip_h1_title": true,
   "title_cell": "Table of Contents",
   "title_sidebar": "Contents",
   "toc_cell": false,
   "toc_position": {},
   "toc_section_display": true,
   "toc_window_display": false
  }
 },
 "nbformat": 4,
 "nbformat_minor": 2
}
